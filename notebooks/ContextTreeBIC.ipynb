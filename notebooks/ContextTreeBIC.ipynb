{
  "nbformat": 4,
  "nbformat_minor": 0,
  "metadata": {
    "colab": {
      "provenance": []
    },
    "kernelspec": {
      "name": "python3",
      "display_name": "Python 3"
    },
    "language_info": {
      "name": "python"
    }
  },
  "cells": [
    {
      "cell_type": "markdown",
      "source": [
        "Each file contains the history of simulation of a Markov Chain.\n",
        "\n",
        "Task: Estimate the context trees through BIC."
      ],
      "metadata": {
        "id": "Vueotfvh_BId"
      }
    },
    {
      "cell_type": "markdown",
      "source": [
        "# Packages"
      ],
      "metadata": {
        "id": "guD0Fi2HcV4c"
      }
    },
    {
      "cell_type": "code",
      "execution_count": 1,
      "metadata": {
        "id": "mdStpok3cPT9"
      },
      "outputs": [],
      "source": [
        "import itertools # tools for iteration\n",
        "# count number of repetitions in list\n",
        "from collections import Counter\n",
        "import copy\n",
        "import os # read directory"
      ]
    },
    {
      "cell_type": "markdown",
      "source": [
        "Clean directory and clone repository with data files"
      ],
      "metadata": {
        "id": "BKEtVNVJs4mv"
      }
    },
    {
      "cell_type": "code",
      "source": [
        "!rm -r sample_data\n",
        "!rm -r MAE4007tasks\n",
        "!git clone --branch context-tree https://github.com/LucasMSpereira/MAE4007tasks"
      ],
      "metadata": {
        "colab": {
          "base_uri": "https://localhost:8080/"
        },
        "id": "VoRQ8hC-VME6",
        "outputId": "20726534-a733-4aa4-c2ed-57a30dbba72d"
      },
      "execution_count": 2,
      "outputs": [
        {
          "output_type": "stream",
          "name": "stdout",
          "text": [
            "rm: cannot remove 'MAE4007tasks': No such file or directory\n",
            "Cloning into 'MAE4007tasks'...\n",
            "remote: Enumerating objects: 37, done.\u001b[K\n",
            "remote: Counting objects: 100% (37/37), done.\u001b[K\n",
            "remote: Compressing objects: 100% (35/35), done.\u001b[K\n",
            "remote: Total 37 (delta 11), reused 7 (delta 2), pack-reused 0\u001b[K\n",
            "Unpacking objects: 100% (37/37), 31.32 KiB | 1.36 MiB/s, done.\n"
          ]
        }
      ]
    },
    {
      "cell_type": "markdown",
      "source": [
        "# Read and organize data"
      ],
      "metadata": {
        "id": "K6B7dbIIfQ1D"
      }
    },
    {
      "cell_type": "code",
      "source": [
        "# function to iterate in advancing pairs of a sequence.\n",
        "# taken from python docs: https://docs.python.org/3/library/itertools.html?highlight=itertools#itertools.pairwise\n",
        "def pairwise(iterable):\n",
        "    # pairwise('ABCDEFG') --> AB BC CD DE EF FG\n",
        "    a, b = itertools.tee(iterable)\n",
        "    next(b, None)\n",
        "    return zip(a, b)\n",
        "\n",
        "# directory with data\n",
        "dataDir = './MAE4007tasks/contextTreeData'\n",
        "# list of dictionaries, each referring to a file\n",
        "data = []\n",
        "# read each file and fill 'data'\n",
        "for fileName in os.listdir(dataDir):\n",
        "  # dictionary for current file\n",
        "  currentData = {}\n",
        "  data.append(currentData)\n",
        "  # file name\n",
        "  data[-1][\"fileName\"] = fileName\n",
        "  # open, read and close file\n",
        "  with open(dataDir + '/' + fileName, encoding=\"utf-8\") as f:\n",
        "    fileData = list(map(int, f.read()))\n",
        "  # file data as list of integers\n",
        "  data[-1][\"content\"] = fileData\n",
        "  # count occurrences of each value in current file\n",
        "  data[-1][\"valueCount\"] = dict(Counter(data[-1][\"content\"]))\n",
        "  # unique values in current file\n",
        "  data[-1][\"uniqueValues\"] = list(data[-1][\"valueCount\"].keys())\n",
        "  data[-1][\"uniqueValues\"].sort()\n",
        "  # count occurrences of pairs of values\n",
        "  data[-1][\"pairCount\"] = dict(Counter(pairwise(data[-1][\"content\"])))\n",
        "for d in data:\n",
        "  for f in d:\n",
        "    if f != \"content\":\n",
        "      print(f)\n",
        "      print(d[f])\n",
        "  print()"
      ],
      "metadata": {
        "colab": {
          "base_uri": "https://localhost:8080/"
        },
        "id": "q7UTlgcHdd3R",
        "outputId": "2520a053-726e-4a24-c2b8-ce1031e43425"
      },
      "execution_count": 3,
      "outputs": [
        {
          "output_type": "stream",
          "name": "stdout",
          "text": [
            "fileName\n",
            "52845.txt\n",
            "valueCount\n",
            "{1: 13668, 3: 8441, 2: 7891}\n",
            "uniqueValues\n",
            "[1, 2, 3]\n",
            "pairCount\n",
            "{(1, 3): 4044, (3, 3): 2258, (3, 1): 3702, (3, 2): 2481, (2, 3): 2139, (2, 1): 3914, (1, 2): 3572, (1, 1): 6051, (2, 2): 1838}\n",
            "\n",
            "fileName\n",
            "OrderEst_ex2.txt\n",
            "valueCount\n",
            "{2: 6327, 1: 3673}\n",
            "uniqueValues\n",
            "[1, 2]\n",
            "pairCount\n",
            "{(2, 1): 2613, (1, 1): 1060, (1, 2): 2612, (2, 2): 3714}\n",
            "\n",
            "fileName\n",
            "OrderEst_ex3.txt\n",
            "valueCount\n",
            "{1: 3943, 2: 2989, 3: 3068}\n",
            "uniqueValues\n",
            "[1, 2, 3]\n",
            "pairCount\n",
            "{(1, 2): 1145, (2, 3): 896, (3, 1): 1015, (1, 1): 1416, (2, 1): 1511, (1, 3): 1381, (3, 2): 1262, (2, 2): 582, (3, 3): 791}\n",
            "\n",
            "fileName\n",
            "OrderEst_ex1.txt\n",
            "valueCount\n",
            "{1: 4726, 2: 5274}\n",
            "uniqueValues\n",
            "[1, 2]\n",
            "pairCount\n",
            "{(1, 1): 2114, (1, 2): 2611, (2, 2): 2663, (2, 1): 2611}\n",
            "\n"
          ]
        }
      ]
    },
    {
      "cell_type": "markdown",
      "source": [
        "# BIC for context trees\n",
        "\n",
        "1.   Begin with the full context tree. depth of M = log(size of sample)\n",
        "2.   Starting from leaves, define the V value of nodes. In the case of leaves, use the likelihood of it's word. Otherwise, use the greater value between the likelihoods of it's word and the words of it's descendant leaves\n",
        "3.   Starting from leaves, define the $\\chi$ value of nodes. D? l(w)?"
      ],
      "metadata": {
        "id": "a_JGGHPoIWw9"
      }
    },
    {
      "cell_type": "code",
      "source": [],
      "metadata": {
        "id": "xyLEDoR4Dbvq"
      },
      "execution_count": null,
      "outputs": []
    },
    {
      "cell_type": "markdown",
      "source": [
        "Organize transition counts into matrix"
      ],
      "metadata": {
        "id": "nm3yoK8FI3f1"
      }
    },
    {
      "cell_type": "code",
      "source": [
        "# iterate in files\n",
        "for dataFile in data:\n",
        "  # create field for matrix with counts of each possible pair of values\n",
        "  dataFile['pairCountMatrix'] = []\n",
        "  # iterate in unique values in sequence of current file\n",
        "  for i in dataFile['uniqueValues']:\n",
        "    # create row, referring to number of transitions from value 'i'\n",
        "    dataFile['pairCountMatrix'].append([])\n",
        "    # iterate in unique values again\n",
        "    for j in dataFile['uniqueValues']:\n",
        "      # append number of transitions from value 'i' to 'j'\n",
        "      dataFile['pairCountMatrix'][-1].append(dataFile['pairCount'][(i, j)])\n",
        "\n",
        "# for each file, print matrix with transition counts\n",
        "for dataFile in data:\n",
        "  print(dataFile[\"fileName\"])\n",
        "  print(''.join(['{:8}'.format(val) for val in dataFile['uniqueValues']]))\n",
        "  for (index, row) in enumerate(dataFile['pairCountMatrix']):\n",
        "    print(dataFile['uniqueValues'][index], end = '')\n",
        "    print(''.join(['{:8}'.format(item) for item in row]))\n",
        "  print()"
      ],
      "metadata": {
        "id": "HroTt40AG7Qp"
      },
      "execution_count": null,
      "outputs": []
    },
    {
      "cell_type": "markdown",
      "source": [
        "Maximum likelihood estimator of transition probability i → j is:\n",
        "\n",
        "\\begin{align}\n",
        "P_{ij} = \\frac{n_{ij}}{\\sum_j n_{ij}}\n",
        "\\end{align}\n",
        "\n",
        "Where $n_{ij}$ is the number of occurrences of transition i → j.\n",
        "\n",
        "This can be determined from the matrix built on the previous step. Each column must be divided by its total sum. This sum represents the total occurences of a → j, $∀ a \\in S$ (the state space)."
      ],
      "metadata": {
        "id": "MdqbARQWJBGm"
      }
    },
    {
      "cell_type": "code",
      "source": [
        "for dataFile in data: # iterate in files\n",
        "  # new field for empirical transition matrix. start as copy of 'pairCountMatrix'\n",
        "  dataFile['transitionMatrix'] = copy.deepcopy(dataFile['pairCountMatrix'])\n",
        "  # indices of current matrix\n",
        "  indices = range(len(dataFile['uniqueValues']))\n",
        "  for colIndex in indices: # iterate in columns\n",
        "    # values of current column\n",
        "    col = [dataFile['transitionMatrix'][row][colIndex] for row in indices]\n",
        "    # divide pointwise by sum of column\n",
        "    col = list(map(lambda r: r / sum(col), col))\n",
        "    for row in indices:\n",
        "      dataFile['transitionMatrix'][row][colIndex] = col[row]\n",
        "\n",
        "# print empirical transition matrix\n",
        "for dataFile in data:\n",
        "  print(dataFile[\"fileName\"])\n",
        "  print(''.join(['{:8}'.format(val) for val in dataFile['uniqueValues']]))\n",
        "  for (index, row) in enumerate(dataFile['transitionMatrix']):\n",
        "    print(dataFile['uniqueValues'][index], end = '')\n",
        "    print(''.join(['{:8}'.format(round(item, ndigits = 2)) for item in row]))\n",
        "  print()"
      ],
      "metadata": {
        "id": "THkjeyl_Jhp5"
      },
      "execution_count": null,
      "outputs": []
    },
    {
      "cell_type": "code",
      "source": [
        "for dataFile in data:\n",
        "  print('\\n**************************************\\n**************************************')\n",
        "  for (key, val) in zip(dataFile.keys(), dataFile.values()):\n",
        "    if key in ['pairCountMatrix', 'transitionMatrix']:\n",
        "      print(f'\\n{key}')\n",
        "      print(''.join(['{:8}'.format(val) for val in dataFile['uniqueValues']]))\n",
        "      for (index, row) in enumerate(dataFile[key]):\n",
        "        print(dataFile['uniqueValues'][index], end = '')\n",
        "        print(''.join(['{:8}'.format(round(item, ndigits = 2)) for item in row]))\n",
        "    else:\n",
        "      print(f'\\n{key}\\n{val}')"
      ],
      "metadata": {
        "id": "3LmebC4QnxZK"
      },
      "execution_count": null,
      "outputs": []
    }
  ]
}