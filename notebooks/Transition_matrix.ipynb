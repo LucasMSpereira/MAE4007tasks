{
  "nbformat": 4,
  "nbformat_minor": 0,
  "metadata": {
    "colab": {
      "provenance": []
    },
    "kernelspec": {
      "name": "python3",
      "display_name": "Python 3"
    },
    "language_info": {
      "name": "python"
    }
  },
  "cells": [
    {
      "cell_type": "markdown",
      "source": [
        "Each file contains the history of simulation of a Markov Chain.\n",
        "\n",
        "Task: Build the transition matrices for each process."
      ],
      "metadata": {
        "id": "Vueotfvh_BId"
      }
    },
    {
      "cell_type": "markdown",
      "source": [
        "Packages"
      ],
      "metadata": {
        "id": "guD0Fi2HcV4c"
      }
    },
    {
      "cell_type": "code",
      "execution_count": 1,
      "metadata": {
        "id": "mdStpok3cPT9"
      },
      "outputs": [],
      "source": [
        "import itertools\n",
        "from collections import Counter\n",
        "import pandas as pd\n",
        "import copy"
      ]
    },
    {
      "cell_type": "markdown",
      "source": [
        "Clean directory and clone repository with data files"
      ],
      "metadata": {
        "id": "BKEtVNVJs4mv"
      }
    },
    {
      "cell_type": "code",
      "source": [
        "!rm -r sample_data\n",
        "!git clone -b transitionMatrixRevision https://github.com/LucasMSpereira/MAE4007tasks"
      ],
      "metadata": {
        "colab": {
          "base_uri": "https://localhost:8080/"
        },
        "id": "VoRQ8hC-VME6",
        "outputId": "b64da6ff-6dcf-4d98-9b26-def6e23ae11d"
      },
      "execution_count": 2,
      "outputs": [
        {
          "output_type": "stream",
          "name": "stdout",
          "text": [
            "rm: cannot remove 'sample_data': No such file or directory\n",
            "fatal: destination path 'MAE4007tasks' already exists and is not an empty directory.\n"
          ]
        }
      ]
    },
    {
      "cell_type": "markdown",
      "source": [
        "Read and structure data"
      ],
      "metadata": {
        "id": "K6B7dbIIfQ1D"
      }
    },
    {
      "cell_type": "code",
      "source": [
        "# function to iterate in advancing pairs of a sequence.\n",
        "# taken from python docs: https://docs.python.org/3/library/itertools.html?highlight=itertools#itertools.pairwise\n",
        "def pairwise(iterable):\n",
        "    # pairwise('ABCDEFG') --> AB BC CD DE EF FG\n",
        "    a, b = itertools.tee(iterable)\n",
        "    next(b, None)\n",
        "    return zip(a, b)\n",
        "\n",
        "# list of dictionaries, each referring to a file\n",
        "data = []\n",
        "# read each file and fill 'data'\n",
        "for i in range(1, 5):\n",
        "  # dictionary for current file\n",
        "  currentData = {}\n",
        "  data.append(currentData)\n",
        "  # file name\n",
        "  data[-1][\"fileName\"] = f\"CM_ex{i}.txt\"\n",
        "  # data frame with contents of current file\n",
        "  data[-1][\"dataFrame\"] = pd.read_csv('./MAE4007tasks/EMV/' + data[-1][\"fileName\"], sep = \" \", header = None)\n",
        "  # name columns\n",
        "  data[-1][\"dataFrame\"].columns = [\"ID\", \"value\"]\n",
        "  # count occurrences of each value in current file\n",
        "  data[-1][\"valueCount\"] = dict(Counter(data[-1][\"dataFrame\"][\"value\"]))\n",
        "  # unique values in current file\n",
        "  data[-1][\"uniqueValues\"] = list(data[-1][\"valueCount\"].keys())\n",
        "  data[-1][\"uniqueValues\"].sort()\n",
        "  # count occurrences of pairs of values\n",
        "  data[-1][\"pairCount\"] = dict(Counter(pairwise(data[-1][\"dataFrame\"][\"value\"])))\n",
        "data"
      ],
      "metadata": {
        "colab": {
          "base_uri": "https://localhost:8080/"
        },
        "id": "q7UTlgcHdd3R",
        "outputId": "8ab2456d-29c2-411b-a1cd-9806ca1cb2b9"
      },
      "execution_count": 3,
      "outputs": [
        {
          "output_type": "execute_result",
          "data": {
            "text/plain": [
              "[{'fileName': 'CM_ex1.txt',\n",
              "  'dataFrame':        ID  value\n",
              "  0       1      0\n",
              "  1       2      0\n",
              "  2       3      0\n",
              "  3       4      0\n",
              "  4       5      1\n",
              "  ..    ...    ...\n",
              "  995   996      0\n",
              "  996   997      0\n",
              "  997   998      0\n",
              "  998   999      0\n",
              "  999  1000      0\n",
              "  \n",
              "  [1000 rows x 2 columns],\n",
              "  'valueCount': {0: 491, 1: 509},\n",
              "  'uniqueValues': [0, 1],\n",
              "  'pairCount': {(0, 0): 384, (0, 1): 106, (1, 1): 403, (1, 0): 106}},\n",
              " {'fileName': 'CM_ex2.txt',\n",
              "  'dataFrame':        ID  value\n",
              "  0       1      1\n",
              "  1       2      2\n",
              "  2       3      2\n",
              "  3       4      2\n",
              "  4       5      3\n",
              "  ..    ...    ...\n",
              "  995   996      1\n",
              "  996   997      1\n",
              "  997   998      2\n",
              "  998   999      2\n",
              "  999  1000      2\n",
              "  \n",
              "  [1000 rows x 2 columns],\n",
              "  'valueCount': {1: 296, 2: 233, 3: 471},\n",
              "  'uniqueValues': [1, 2, 3],\n",
              "  'pairCount': {(1, 2): 98,\n",
              "   (2, 2): 135,\n",
              "   (2, 3): 97,\n",
              "   (3, 3): 374,\n",
              "   (3, 1): 97,\n",
              "   (1, 1): 198}},\n",
              " {'fileName': 'CM_ex3.txt',\n",
              "  'dataFrame':        ID  value\n",
              "  0       1      1\n",
              "  1       2      3\n",
              "  2       3      1\n",
              "  3       4      2\n",
              "  4       5      3\n",
              "  ..    ...    ...\n",
              "  995   996      1\n",
              "  996   997      2\n",
              "  997   998      3\n",
              "  998   999      1\n",
              "  999  1000      3\n",
              "  \n",
              "  [1000 rows x 2 columns],\n",
              "  'valueCount': {1: 320, 3: 338, 2: 342},\n",
              "  'uniqueValues': [1, 2, 3],\n",
              "  'pairCount': {(1, 3): 155,\n",
              "   (3, 1): 192,\n",
              "   (1, 2): 133,\n",
              "   (2, 3): 183,\n",
              "   (3, 2): 145,\n",
              "   (2, 1): 95,\n",
              "   (2, 2): 64,\n",
              "   (1, 1): 32}},\n",
              " {'fileName': 'CM_ex4.txt',\n",
              "  'dataFrame':        ID  value\n",
              "  0       1      4\n",
              "  1       2      3\n",
              "  2       3      2\n",
              "  3       4      1\n",
              "  4       5      2\n",
              "  ..    ...    ...\n",
              "  995   996      6\n",
              "  996   997      2\n",
              "  997   998      1\n",
              "  998   999      1\n",
              "  999  1000      2\n",
              "  \n",
              "  [1000 rows x 2 columns],\n",
              "  'valueCount': {4: 189, 3: 31, 2: 210, 1: 157, 6: 76, 5: 337},\n",
              "  'uniqueValues': [1, 2, 3, 4, 5, 6],\n",
              "  'pairCount': {(4, 3): 21,\n",
              "   (3, 2): 15,\n",
              "   (2, 1): 106,\n",
              "   (1, 2): 96,\n",
              "   (2, 6): 40,\n",
              "   (6, 5): 40,\n",
              "   (5, 4): 103,\n",
              "   (4, 5): 83,\n",
              "   (4, 4): 85,\n",
              "   (5, 5): 198,\n",
              "   (5, 6): 36,\n",
              "   (6, 2): 36,\n",
              "   (2, 2): 63,\n",
              "   (1, 1): 51,\n",
              "   (1, 3): 10,\n",
              "   (3, 5): 16}}]"
            ]
          },
          "metadata": {},
          "execution_count": 3
        }
      ]
    },
    {
      "cell_type": "markdown",
      "source": [
        "Count occurrences of each possible pair of values (transitions)"
      ],
      "metadata": {
        "id": "a_JGGHPoIWw9"
      }
    },
    {
      "cell_type": "code",
      "source": [
        "# iterate in files\n",
        "for dataFile in data:\n",
        "  print(dataFile[\"fileName\"])\n",
        "  # iterate in possible pairs of values in current file\n",
        "  for (first, second) in dict(Counter(itertools.permutations(\n",
        "      itertools.chain.from_iterable(itertools.repeat(dataFile[\"uniqueValues\"], 2)), r = 2))).keys():\n",
        "    # if current possible permutation shows up in file, print\n",
        "    if (first, second) in dataFile[\"pairCount\"].keys():\n",
        "      print(\"  \", (first, second), dataFile[\"pairCount\"][(first, second)])\n",
        "    else:\n",
        "      print(\"  \", (first, second), \"0\")\n",
        "      # otherwise, augment 'pairCount' with null entry for current permutation\n",
        "      dataFile[\"pairCount\"][(first, second)] = 0\n",
        "  print()"
      ],
      "metadata": {
        "colab": {
          "base_uri": "https://localhost:8080/"
        },
        "id": "xyLEDoR4Dbvq",
        "outputId": "0daef971-5f06-477a-c551-0c8604636a7a"
      },
      "execution_count": 4,
      "outputs": [
        {
          "output_type": "stream",
          "name": "stdout",
          "text": [
            "CM_ex1.txt\n",
            "   (0, 1) 106\n",
            "   (0, 0) 384\n",
            "   (1, 0) 106\n",
            "   (1, 1) 403\n",
            "\n",
            "CM_ex2.txt\n",
            "   (1, 2) 98\n",
            "   (1, 3) 0\n",
            "   (1, 1) 198\n",
            "   (2, 1) 0\n",
            "   (2, 3) 97\n",
            "   (2, 2) 135\n",
            "   (3, 1) 97\n",
            "   (3, 2) 0\n",
            "   (3, 3) 374\n",
            "\n",
            "CM_ex3.txt\n",
            "   (1, 2) 133\n",
            "   (1, 3) 155\n",
            "   (1, 1) 32\n",
            "   (2, 1) 95\n",
            "   (2, 3) 183\n",
            "   (2, 2) 64\n",
            "   (3, 1) 192\n",
            "   (3, 2) 145\n",
            "   (3, 3) 0\n",
            "\n",
            "CM_ex4.txt\n",
            "   (1, 2) 96\n",
            "   (1, 3) 10\n",
            "   (1, 4) 0\n",
            "   (1, 5) 0\n",
            "   (1, 6) 0\n",
            "   (1, 1) 51\n",
            "   (2, 1) 106\n",
            "   (2, 3) 0\n",
            "   (2, 4) 0\n",
            "   (2, 5) 0\n",
            "   (2, 6) 40\n",
            "   (2, 2) 63\n",
            "   (3, 1) 0\n",
            "   (3, 2) 15\n",
            "   (3, 4) 0\n",
            "   (3, 5) 16\n",
            "   (3, 6) 0\n",
            "   (3, 3) 0\n",
            "   (4, 1) 0\n",
            "   (4, 2) 0\n",
            "   (4, 3) 21\n",
            "   (4, 5) 83\n",
            "   (4, 6) 0\n",
            "   (4, 4) 85\n",
            "   (5, 1) 0\n",
            "   (5, 2) 0\n",
            "   (5, 3) 0\n",
            "   (5, 4) 103\n",
            "   (5, 6) 36\n",
            "   (5, 5) 198\n",
            "   (6, 1) 0\n",
            "   (6, 2) 36\n",
            "   (6, 3) 0\n",
            "   (6, 4) 0\n",
            "   (6, 5) 40\n",
            "   (6, 6) 0\n",
            "\n"
          ]
        }
      ]
    },
    {
      "cell_type": "markdown",
      "source": [
        "Organize transition counts into matrix"
      ],
      "metadata": {
        "id": "nm3yoK8FI3f1"
      }
    },
    {
      "cell_type": "code",
      "source": [
        "# iterate in files\n",
        "for dataFile in data:\n",
        "  # create field for matrix with counts of each possible pair of values\n",
        "  dataFile['pairCountMatrix'] = []\n",
        "  # iterate in unique values in sequence of current file\n",
        "  for i in dataFile['uniqueValues']:\n",
        "    # create row, referring to number of transitions from value 'i'\n",
        "    dataFile['pairCountMatrix'].append([])\n",
        "    # iterate in unique values again\n",
        "    for j in dataFile['uniqueValues']:\n",
        "      # append number of transitions from value 'i' to 'j'\n",
        "      dataFile['pairCountMatrix'][-1].append(dataFile['pairCount'][(i, j)])\n",
        "\n",
        "# for each file, print matrix with transition counts\n",
        "for dataFile in data:\n",
        "  print(dataFile[\"fileName\"])\n",
        "  print(''.join(['{:8}'.format(val) for val in dataFile['uniqueValues']]))\n",
        "  for (index, row) in enumerate(dataFile['pairCountMatrix']):\n",
        "    print(dataFile['uniqueValues'][index], end = '')\n",
        "    print(''.join(['{:8}'.format(item) for item in row]))\n",
        "  print()"
      ],
      "metadata": {
        "colab": {
          "base_uri": "https://localhost:8080/"
        },
        "id": "HroTt40AG7Qp",
        "outputId": "5d11273c-7257-4554-fc76-bc6c3d8b8070"
      },
      "execution_count": 5,
      "outputs": [
        {
          "output_type": "stream",
          "name": "stdout",
          "text": [
            "CM_ex1.txt\n",
            "       0       1\n",
            "0     384     106\n",
            "1     106     403\n",
            "\n",
            "CM_ex2.txt\n",
            "       1       2       3\n",
            "1     198      98       0\n",
            "2       0     135      97\n",
            "3      97       0     374\n",
            "\n",
            "CM_ex3.txt\n",
            "       1       2       3\n",
            "1      32     133     155\n",
            "2      95      64     183\n",
            "3     192     145       0\n",
            "\n",
            "CM_ex4.txt\n",
            "       1       2       3       4       5       6\n",
            "1      51      96      10       0       0       0\n",
            "2     106      63       0       0       0      40\n",
            "3       0      15       0       0      16       0\n",
            "4       0       0      21      85      83       0\n",
            "5       0       0       0     103     198      36\n",
            "6       0      36       0       0      40       0\n",
            "\n"
          ]
        }
      ]
    },
    {
      "cell_type": "markdown",
      "source": [
        "Maximum likelihood estimator of transition probability i → j is:\n",
        "\n",
        "\\begin{align}\n",
        "P_{ij} = \\frac{n_{ij}}{\\sum_j n_{ij}}\n",
        "\\end{align}\n",
        "\n",
        "Where $n_{ij}$ is the number of occurrences of transition i → j.\n",
        "\n",
        "This can be determined from the matrix built on the previous step. Each row must be divided by its total sum. This sum represents the total occurences of i → j, $∀ j \\in S$ (the state space)."
      ],
      "metadata": {
        "id": "MdqbARQWJBGm"
      }
    },
    {
      "cell_type": "code",
      "source": [
        "for dataFile in data: # iterate in files\n",
        "  # new field for empirical transition matrix. start as copy of 'pairCountMatrix'\n",
        "  dataFile['transitionMatrix'] = copy.deepcopy(dataFile['pairCountMatrix'])\n",
        "  # indices of current matrix\n",
        "  indices = range(len(dataFile['uniqueValues']))\n",
        "  for rowIndex in indices: # iterate in rows\n",
        "    # total sum of current row\n",
        "    rowTotal = sum([dataFile['transitionMatrix'][rowIndex][col] for col in indices])\n",
        "    for col in indices: # iterate in columns\n",
        "    # divide each element by sum of row\n",
        "      dataFile['transitionMatrix'][rowIndex][col] /= rowTotal\n",
        "\n",
        "# print empirical transition matrix\n",
        "for dataFile in data:\n",
        "  print(dataFile[\"fileName\"])\n",
        "  print(''.join(['{:8}'.format(val) for val in dataFile['uniqueValues']]))\n",
        "  for (index, row) in enumerate(dataFile['transitionMatrix']):\n",
        "    print(dataFile['uniqueValues'][index], end = '')\n",
        "    print(''.join(['{:8}'.format(round(item, ndigits = 1)) for item in row]))\n",
        "  print()"
      ],
      "metadata": {
        "colab": {
          "base_uri": "https://localhost:8080/"
        },
        "id": "THkjeyl_Jhp5",
        "outputId": "38dce023-0c3c-453b-f688-d33ed34344da"
      },
      "execution_count": 8,
      "outputs": [
        {
          "output_type": "stream",
          "name": "stdout",
          "text": [
            "CM_ex1.txt\n",
            "       0       1\n",
            "0     0.8     0.2\n",
            "1     0.2     0.8\n",
            "\n",
            "CM_ex2.txt\n",
            "       1       2       3\n",
            "1     0.7     0.3     0.0\n",
            "2     0.0     0.6     0.4\n",
            "3     0.2     0.0     0.8\n",
            "\n",
            "CM_ex3.txt\n",
            "       1       2       3\n",
            "1     0.1     0.4     0.5\n",
            "2     0.3     0.2     0.5\n",
            "3     0.6     0.4     0.0\n",
            "\n",
            "CM_ex4.txt\n",
            "       1       2       3       4       5       6\n",
            "1     0.3     0.6     0.1     0.0     0.0     0.0\n",
            "2     0.5     0.3     0.0     0.0     0.0     0.2\n",
            "3     0.0     0.5     0.0     0.0     0.5     0.0\n",
            "4     0.0     0.0     0.1     0.4     0.4     0.0\n",
            "5     0.0     0.0     0.0     0.3     0.6     0.1\n",
            "6     0.0     0.5     0.0     0.0     0.5     0.0\n",
            "\n"
          ]
        }
      ]
    },
    {
      "cell_type": "code",
      "source": [
        "for dataFile in data:\n",
        "  print('\\n**************************************\\n**************************************')\n",
        "  for (key, val) in zip(dataFile.keys(), dataFile.values()):\n",
        "    if key in ['pairCountMatrix', 'transitionMatrix']:\n",
        "      print(f'\\n{key}')\n",
        "      print(''.join(['{:8}'.format(val) for val in dataFile['uniqueValues']]))\n",
        "      for (index, row) in enumerate(dataFile[key]):\n",
        "        print(dataFile['uniqueValues'][index], end = '')\n",
        "        print(''.join(['{:8}'.format(round(item, ndigits = 2)) for item in row]))\n",
        "    else:\n",
        "      print(f'\\n{key}\\n{val}')"
      ],
      "metadata": {
        "colab": {
          "base_uri": "https://localhost:8080/"
        },
        "id": "3LmebC4QnxZK",
        "outputId": "69ad468d-14a3-4d00-d6e6-3ec1f3760b50"
      },
      "execution_count": 7,
      "outputs": [
        {
          "output_type": "stream",
          "name": "stdout",
          "text": [
            "\n",
            "**************************************\n",
            "**************************************\n",
            "\n",
            "fileName\n",
            "CM_ex1.txt\n",
            "\n",
            "dataFrame\n",
            "       ID  value\n",
            "0       1      0\n",
            "1       2      0\n",
            "2       3      0\n",
            "3       4      0\n",
            "4       5      1\n",
            "..    ...    ...\n",
            "995   996      0\n",
            "996   997      0\n",
            "997   998      0\n",
            "998   999      0\n",
            "999  1000      0\n",
            "\n",
            "[1000 rows x 2 columns]\n",
            "\n",
            "valueCount\n",
            "{0: 491, 1: 509}\n",
            "\n",
            "uniqueValues\n",
            "[0, 1]\n",
            "\n",
            "pairCount\n",
            "{(0, 0): 384, (0, 1): 106, (1, 1): 403, (1, 0): 106}\n",
            "\n",
            "pairCountMatrix\n",
            "       0       1\n",
            "0     384     106\n",
            "1     106     403\n",
            "\n",
            "transitionMatrix\n",
            "       0       1\n",
            "0    0.78    0.22\n",
            "1    0.21    0.79\n",
            "\n",
            "**************************************\n",
            "**************************************\n",
            "\n",
            "fileName\n",
            "CM_ex2.txt\n",
            "\n",
            "dataFrame\n",
            "       ID  value\n",
            "0       1      1\n",
            "1       2      2\n",
            "2       3      2\n",
            "3       4      2\n",
            "4       5      3\n",
            "..    ...    ...\n",
            "995   996      1\n",
            "996   997      1\n",
            "997   998      2\n",
            "998   999      2\n",
            "999  1000      2\n",
            "\n",
            "[1000 rows x 2 columns]\n",
            "\n",
            "valueCount\n",
            "{1: 296, 2: 233, 3: 471}\n",
            "\n",
            "uniqueValues\n",
            "[1, 2, 3]\n",
            "\n",
            "pairCount\n",
            "{(1, 2): 98, (2, 2): 135, (2, 3): 97, (3, 3): 374, (3, 1): 97, (1, 1): 198, (1, 3): 0, (2, 1): 0, (3, 2): 0}\n",
            "\n",
            "pairCountMatrix\n",
            "       1       2       3\n",
            "1     198      98       0\n",
            "2       0     135      97\n",
            "3      97       0     374\n",
            "\n",
            "transitionMatrix\n",
            "       1       2       3\n",
            "1    0.67    0.33     0.0\n",
            "2     0.0    0.58    0.42\n",
            "3    0.21     0.0    0.79\n",
            "\n",
            "**************************************\n",
            "**************************************\n",
            "\n",
            "fileName\n",
            "CM_ex3.txt\n",
            "\n",
            "dataFrame\n",
            "       ID  value\n",
            "0       1      1\n",
            "1       2      3\n",
            "2       3      1\n",
            "3       4      2\n",
            "4       5      3\n",
            "..    ...    ...\n",
            "995   996      1\n",
            "996   997      2\n",
            "997   998      3\n",
            "998   999      1\n",
            "999  1000      3\n",
            "\n",
            "[1000 rows x 2 columns]\n",
            "\n",
            "valueCount\n",
            "{1: 320, 3: 338, 2: 342}\n",
            "\n",
            "uniqueValues\n",
            "[1, 2, 3]\n",
            "\n",
            "pairCount\n",
            "{(1, 3): 155, (3, 1): 192, (1, 2): 133, (2, 3): 183, (3, 2): 145, (2, 1): 95, (2, 2): 64, (1, 1): 32, (3, 3): 0}\n",
            "\n",
            "pairCountMatrix\n",
            "       1       2       3\n",
            "1      32     133     155\n",
            "2      95      64     183\n",
            "3     192     145       0\n",
            "\n",
            "transitionMatrix\n",
            "       1       2       3\n",
            "1     0.1    0.42    0.48\n",
            "2    0.28    0.19    0.54\n",
            "3    0.57    0.43     0.0\n",
            "\n",
            "**************************************\n",
            "**************************************\n",
            "\n",
            "fileName\n",
            "CM_ex4.txt\n",
            "\n",
            "dataFrame\n",
            "       ID  value\n",
            "0       1      4\n",
            "1       2      3\n",
            "2       3      2\n",
            "3       4      1\n",
            "4       5      2\n",
            "..    ...    ...\n",
            "995   996      6\n",
            "996   997      2\n",
            "997   998      1\n",
            "998   999      1\n",
            "999  1000      2\n",
            "\n",
            "[1000 rows x 2 columns]\n",
            "\n",
            "valueCount\n",
            "{4: 189, 3: 31, 2: 210, 1: 157, 6: 76, 5: 337}\n",
            "\n",
            "uniqueValues\n",
            "[1, 2, 3, 4, 5, 6]\n",
            "\n",
            "pairCount\n",
            "{(4, 3): 21, (3, 2): 15, (2, 1): 106, (1, 2): 96, (2, 6): 40, (6, 5): 40, (5, 4): 103, (4, 5): 83, (4, 4): 85, (5, 5): 198, (5, 6): 36, (6, 2): 36, (2, 2): 63, (1, 1): 51, (1, 3): 10, (3, 5): 16, (1, 4): 0, (1, 5): 0, (1, 6): 0, (2, 3): 0, (2, 4): 0, (2, 5): 0, (3, 1): 0, (3, 4): 0, (3, 6): 0, (3, 3): 0, (4, 1): 0, (4, 2): 0, (4, 6): 0, (5, 1): 0, (5, 2): 0, (5, 3): 0, (6, 1): 0, (6, 3): 0, (6, 4): 0, (6, 6): 0}\n",
            "\n",
            "pairCountMatrix\n",
            "       1       2       3       4       5       6\n",
            "1      51      96      10       0       0       0\n",
            "2     106      63       0       0       0      40\n",
            "3       0      15       0       0      16       0\n",
            "4       0       0      21      85      83       0\n",
            "5       0       0       0     103     198      36\n",
            "6       0      36       0       0      40       0\n",
            "\n",
            "transitionMatrix\n",
            "       1       2       3       4       5       6\n",
            "1    0.32    0.61    0.06     0.0     0.0     0.0\n",
            "2    0.51     0.3     0.0     0.0     0.0    0.19\n",
            "3     0.0    0.48     0.0     0.0    0.52     0.0\n",
            "4     0.0     0.0    0.11    0.45    0.44     0.0\n",
            "5     0.0     0.0     0.0    0.31    0.59    0.11\n",
            "6     0.0    0.47     0.0     0.0    0.53     0.0\n"
          ]
        }
      ]
    }
  ]
}